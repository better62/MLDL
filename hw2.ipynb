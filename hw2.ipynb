{
  "nbformat": 4,
  "nbformat_minor": 0,
  "metadata": {
    "colab": {
      "provenance": [],
      "toc_visible": true
    },
    "kernelspec": {
      "name": "python3",
      "display_name": "Python 3"
    },
    "language_info": {
      "name": "python"
    }
  },
  "cells": [
    {
      "cell_type": "markdown",
      "source": [
        "#1\n"
      ],
      "metadata": {
        "id": "eCuuvd0ibapS"
      }
    },
    {
      "cell_type": "code",
      "source": [
        "import pandas as pd\n",
        "\n",
        "college = pd.read_csv('/content/College.csv')"
      ],
      "metadata": {
        "id": "fzJKLSfUb_vh"
      },
      "execution_count": 1,
      "outputs": []
    },
    {
      "cell_type": "code",
      "source": [
        "college.info()"
      ],
      "metadata": {
        "colab": {
          "base_uri": "https://localhost:8080/"
        },
        "id": "l1NCwLk3cG5F",
        "outputId": "7d8c52cf-0e69-4db4-d36b-332a82d6a935"
      },
      "execution_count": 2,
      "outputs": [
        {
          "output_type": "stream",
          "name": "stdout",
          "text": [
            "<class 'pandas.core.frame.DataFrame'>\n",
            "RangeIndex: 777 entries, 0 to 776\n",
            "Data columns (total 19 columns):\n",
            " #   Column       Non-Null Count  Dtype  \n",
            "---  ------       --------------  -----  \n",
            " 0   Unnamed: 0   777 non-null    object \n",
            " 1   Private      777 non-null    object \n",
            " 2   Apps         777 non-null    int64  \n",
            " 3   Accept       777 non-null    int64  \n",
            " 4   Enroll       777 non-null    int64  \n",
            " 5   Top10perc    777 non-null    int64  \n",
            " 6   Top25perc    777 non-null    int64  \n",
            " 7   F.Undergrad  777 non-null    int64  \n",
            " 8   P.Undergrad  777 non-null    int64  \n",
            " 9   Outstate     777 non-null    int64  \n",
            " 10  Room.Board   777 non-null    int64  \n",
            " 11  Books        777 non-null    int64  \n",
            " 12  Personal     777 non-null    int64  \n",
            " 13  PhD          777 non-null    int64  \n",
            " 14  Terminal     777 non-null    int64  \n",
            " 15  S.F.Ratio    777 non-null    float64\n",
            " 16  perc.alumni  777 non-null    int64  \n",
            " 17  Expend       777 non-null    int64  \n",
            " 18  Grad.Rate    777 non-null    int64  \n",
            "dtypes: float64(1), int64(16), object(2)\n",
            "memory usage: 115.5+ KB\n"
          ]
        }
      ]
    },
    {
      "cell_type": "code",
      "source": [
        "college.head()"
      ],
      "metadata": {
        "colab": {
          "base_uri": "https://localhost:8080/",
          "height": 382
        },
        "id": "HanuHMRgcc0b",
        "outputId": "5853a087-ee98-488c-a14d-33d1be44729a"
      },
      "execution_count": 3,
      "outputs": [
        {
          "output_type": "execute_result",
          "data": {
            "text/plain": [
              "                     Unnamed: 0 Private  Apps  Accept  Enroll  Top10perc  \\\n",
              "0  Abilene Christian University     Yes  1660    1232     721         23   \n",
              "1            Adelphi University     Yes  2186    1924     512         16   \n",
              "2                Adrian College     Yes  1428    1097     336         22   \n",
              "3           Agnes Scott College     Yes   417     349     137         60   \n",
              "4     Alaska Pacific University     Yes   193     146      55         16   \n",
              "\n",
              "   Top25perc  F.Undergrad  P.Undergrad  Outstate  Room.Board  Books  Personal  \\\n",
              "0         52         2885          537      7440        3300    450      2200   \n",
              "1         29         2683         1227     12280        6450    750      1500   \n",
              "2         50         1036           99     11250        3750    400      1165   \n",
              "3         89          510           63     12960        5450    450       875   \n",
              "4         44          249          869      7560        4120    800      1500   \n",
              "\n",
              "   PhD  Terminal  S.F.Ratio  perc.alumni  Expend  Grad.Rate  \n",
              "0   70        78       18.1           12    7041         60  \n",
              "1   29        30       12.2           16   10527         56  \n",
              "2   53        66       12.9           30    8735         54  \n",
              "3   92        97        7.7           37   19016         59  \n",
              "4   76        72       11.9            2   10922         15  "
            ],
            "text/html": [
              "\n",
              "  <div id=\"df-330560fb-ad02-4bf5-9717-60f7568eb6f5\" class=\"colab-df-container\">\n",
              "    <div>\n",
              "<style scoped>\n",
              "    .dataframe tbody tr th:only-of-type {\n",
              "        vertical-align: middle;\n",
              "    }\n",
              "\n",
              "    .dataframe tbody tr th {\n",
              "        vertical-align: top;\n",
              "    }\n",
              "\n",
              "    .dataframe thead th {\n",
              "        text-align: right;\n",
              "    }\n",
              "</style>\n",
              "<table border=\"1\" class=\"dataframe\">\n",
              "  <thead>\n",
              "    <tr style=\"text-align: right;\">\n",
              "      <th></th>\n",
              "      <th>Unnamed: 0</th>\n",
              "      <th>Private</th>\n",
              "      <th>Apps</th>\n",
              "      <th>Accept</th>\n",
              "      <th>Enroll</th>\n",
              "      <th>Top10perc</th>\n",
              "      <th>Top25perc</th>\n",
              "      <th>F.Undergrad</th>\n",
              "      <th>P.Undergrad</th>\n",
              "      <th>Outstate</th>\n",
              "      <th>Room.Board</th>\n",
              "      <th>Books</th>\n",
              "      <th>Personal</th>\n",
              "      <th>PhD</th>\n",
              "      <th>Terminal</th>\n",
              "      <th>S.F.Ratio</th>\n",
              "      <th>perc.alumni</th>\n",
              "      <th>Expend</th>\n",
              "      <th>Grad.Rate</th>\n",
              "    </tr>\n",
              "  </thead>\n",
              "  <tbody>\n",
              "    <tr>\n",
              "      <th>0</th>\n",
              "      <td>Abilene Christian University</td>\n",
              "      <td>Yes</td>\n",
              "      <td>1660</td>\n",
              "      <td>1232</td>\n",
              "      <td>721</td>\n",
              "      <td>23</td>\n",
              "      <td>52</td>\n",
              "      <td>2885</td>\n",
              "      <td>537</td>\n",
              "      <td>7440</td>\n",
              "      <td>3300</td>\n",
              "      <td>450</td>\n",
              "      <td>2200</td>\n",
              "      <td>70</td>\n",
              "      <td>78</td>\n",
              "      <td>18.1</td>\n",
              "      <td>12</td>\n",
              "      <td>7041</td>\n",
              "      <td>60</td>\n",
              "    </tr>\n",
              "    <tr>\n",
              "      <th>1</th>\n",
              "      <td>Adelphi University</td>\n",
              "      <td>Yes</td>\n",
              "      <td>2186</td>\n",
              "      <td>1924</td>\n",
              "      <td>512</td>\n",
              "      <td>16</td>\n",
              "      <td>29</td>\n",
              "      <td>2683</td>\n",
              "      <td>1227</td>\n",
              "      <td>12280</td>\n",
              "      <td>6450</td>\n",
              "      <td>750</td>\n",
              "      <td>1500</td>\n",
              "      <td>29</td>\n",
              "      <td>30</td>\n",
              "      <td>12.2</td>\n",
              "      <td>16</td>\n",
              "      <td>10527</td>\n",
              "      <td>56</td>\n",
              "    </tr>\n",
              "    <tr>\n",
              "      <th>2</th>\n",
              "      <td>Adrian College</td>\n",
              "      <td>Yes</td>\n",
              "      <td>1428</td>\n",
              "      <td>1097</td>\n",
              "      <td>336</td>\n",
              "      <td>22</td>\n",
              "      <td>50</td>\n",
              "      <td>1036</td>\n",
              "      <td>99</td>\n",
              "      <td>11250</td>\n",
              "      <td>3750</td>\n",
              "      <td>400</td>\n",
              "      <td>1165</td>\n",
              "      <td>53</td>\n",
              "      <td>66</td>\n",
              "      <td>12.9</td>\n",
              "      <td>30</td>\n",
              "      <td>8735</td>\n",
              "      <td>54</td>\n",
              "    </tr>\n",
              "    <tr>\n",
              "      <th>3</th>\n",
              "      <td>Agnes Scott College</td>\n",
              "      <td>Yes</td>\n",
              "      <td>417</td>\n",
              "      <td>349</td>\n",
              "      <td>137</td>\n",
              "      <td>60</td>\n",
              "      <td>89</td>\n",
              "      <td>510</td>\n",
              "      <td>63</td>\n",
              "      <td>12960</td>\n",
              "      <td>5450</td>\n",
              "      <td>450</td>\n",
              "      <td>875</td>\n",
              "      <td>92</td>\n",
              "      <td>97</td>\n",
              "      <td>7.7</td>\n",
              "      <td>37</td>\n",
              "      <td>19016</td>\n",
              "      <td>59</td>\n",
              "    </tr>\n",
              "    <tr>\n",
              "      <th>4</th>\n",
              "      <td>Alaska Pacific University</td>\n",
              "      <td>Yes</td>\n",
              "      <td>193</td>\n",
              "      <td>146</td>\n",
              "      <td>55</td>\n",
              "      <td>16</td>\n",
              "      <td>44</td>\n",
              "      <td>249</td>\n",
              "      <td>869</td>\n",
              "      <td>7560</td>\n",
              "      <td>4120</td>\n",
              "      <td>800</td>\n",
              "      <td>1500</td>\n",
              "      <td>76</td>\n",
              "      <td>72</td>\n",
              "      <td>11.9</td>\n",
              "      <td>2</td>\n",
              "      <td>10922</td>\n",
              "      <td>15</td>\n",
              "    </tr>\n",
              "  </tbody>\n",
              "</table>\n",
              "</div>\n",
              "    <div class=\"colab-df-buttons\">\n",
              "\n",
              "  <div class=\"colab-df-container\">\n",
              "    <button class=\"colab-df-convert\" onclick=\"convertToInteractive('df-330560fb-ad02-4bf5-9717-60f7568eb6f5')\"\n",
              "            title=\"Convert this dataframe to an interactive table.\"\n",
              "            style=\"display:none;\">\n",
              "\n",
              "  <svg xmlns=\"http://www.w3.org/2000/svg\" height=\"24px\" viewBox=\"0 -960 960 960\">\n",
              "    <path d=\"M120-120v-720h720v720H120Zm60-500h600v-160H180v160Zm220 220h160v-160H400v160Zm0 220h160v-160H400v160ZM180-400h160v-160H180v160Zm440 0h160v-160H620v160ZM180-180h160v-160H180v160Zm440 0h160v-160H620v160Z\"/>\n",
              "  </svg>\n",
              "    </button>\n",
              "\n",
              "  <style>\n",
              "    .colab-df-container {\n",
              "      display:flex;\n",
              "      gap: 12px;\n",
              "    }\n",
              "\n",
              "    .colab-df-convert {\n",
              "      background-color: #E8F0FE;\n",
              "      border: none;\n",
              "      border-radius: 50%;\n",
              "      cursor: pointer;\n",
              "      display: none;\n",
              "      fill: #1967D2;\n",
              "      height: 32px;\n",
              "      padding: 0 0 0 0;\n",
              "      width: 32px;\n",
              "    }\n",
              "\n",
              "    .colab-df-convert:hover {\n",
              "      background-color: #E2EBFA;\n",
              "      box-shadow: 0px 1px 2px rgba(60, 64, 67, 0.3), 0px 1px 3px 1px rgba(60, 64, 67, 0.15);\n",
              "      fill: #174EA6;\n",
              "    }\n",
              "\n",
              "    .colab-df-buttons div {\n",
              "      margin-bottom: 4px;\n",
              "    }\n",
              "\n",
              "    [theme=dark] .colab-df-convert {\n",
              "      background-color: #3B4455;\n",
              "      fill: #D2E3FC;\n",
              "    }\n",
              "\n",
              "    [theme=dark] .colab-df-convert:hover {\n",
              "      background-color: #434B5C;\n",
              "      box-shadow: 0px 1px 3px 1px rgba(0, 0, 0, 0.15);\n",
              "      filter: drop-shadow(0px 1px 2px rgba(0, 0, 0, 0.3));\n",
              "      fill: #FFFFFF;\n",
              "    }\n",
              "  </style>\n",
              "\n",
              "    <script>\n",
              "      const buttonEl =\n",
              "        document.querySelector('#df-330560fb-ad02-4bf5-9717-60f7568eb6f5 button.colab-df-convert');\n",
              "      buttonEl.style.display =\n",
              "        google.colab.kernel.accessAllowed ? 'block' : 'none';\n",
              "\n",
              "      async function convertToInteractive(key) {\n",
              "        const element = document.querySelector('#df-330560fb-ad02-4bf5-9717-60f7568eb6f5');\n",
              "        const dataTable =\n",
              "          await google.colab.kernel.invokeFunction('convertToInteractive',\n",
              "                                                    [key], {});\n",
              "        if (!dataTable) return;\n",
              "\n",
              "        const docLinkHtml = 'Like what you see? Visit the ' +\n",
              "          '<a target=\"_blank\" href=https://colab.research.google.com/notebooks/data_table.ipynb>data table notebook</a>'\n",
              "          + ' to learn more about interactive tables.';\n",
              "        element.innerHTML = '';\n",
              "        dataTable['output_type'] = 'display_data';\n",
              "        await google.colab.output.renderOutput(dataTable, element);\n",
              "        const docLink = document.createElement('div');\n",
              "        docLink.innerHTML = docLinkHtml;\n",
              "        element.appendChild(docLink);\n",
              "      }\n",
              "    </script>\n",
              "  </div>\n",
              "\n",
              "\n",
              "<div id=\"df-84e9228b-72e5-4a76-a5ac-8cf2ffbd89a2\">\n",
              "  <button class=\"colab-df-quickchart\" onclick=\"quickchart('df-84e9228b-72e5-4a76-a5ac-8cf2ffbd89a2')\"\n",
              "            title=\"Suggest charts.\"\n",
              "            style=\"display:none;\">\n",
              "\n",
              "<svg xmlns=\"http://www.w3.org/2000/svg\" height=\"24px\"viewBox=\"0 0 24 24\"\n",
              "     width=\"24px\">\n",
              "    <g>\n",
              "        <path d=\"M19 3H5c-1.1 0-2 .9-2 2v14c0 1.1.9 2 2 2h14c1.1 0 2-.9 2-2V5c0-1.1-.9-2-2-2zM9 17H7v-7h2v7zm4 0h-2V7h2v10zm4 0h-2v-4h2v4z\"/>\n",
              "    </g>\n",
              "</svg>\n",
              "  </button>\n",
              "\n",
              "<style>\n",
              "  .colab-df-quickchart {\n",
              "      --bg-color: #E8F0FE;\n",
              "      --fill-color: #1967D2;\n",
              "      --hover-bg-color: #E2EBFA;\n",
              "      --hover-fill-color: #174EA6;\n",
              "      --disabled-fill-color: #AAA;\n",
              "      --disabled-bg-color: #DDD;\n",
              "  }\n",
              "\n",
              "  [theme=dark] .colab-df-quickchart {\n",
              "      --bg-color: #3B4455;\n",
              "      --fill-color: #D2E3FC;\n",
              "      --hover-bg-color: #434B5C;\n",
              "      --hover-fill-color: #FFFFFF;\n",
              "      --disabled-bg-color: #3B4455;\n",
              "      --disabled-fill-color: #666;\n",
              "  }\n",
              "\n",
              "  .colab-df-quickchart {\n",
              "    background-color: var(--bg-color);\n",
              "    border: none;\n",
              "    border-radius: 50%;\n",
              "    cursor: pointer;\n",
              "    display: none;\n",
              "    fill: var(--fill-color);\n",
              "    height: 32px;\n",
              "    padding: 0;\n",
              "    width: 32px;\n",
              "  }\n",
              "\n",
              "  .colab-df-quickchart:hover {\n",
              "    background-color: var(--hover-bg-color);\n",
              "    box-shadow: 0 1px 2px rgba(60, 64, 67, 0.3), 0 1px 3px 1px rgba(60, 64, 67, 0.15);\n",
              "    fill: var(--button-hover-fill-color);\n",
              "  }\n",
              "\n",
              "  .colab-df-quickchart-complete:disabled,\n",
              "  .colab-df-quickchart-complete:disabled:hover {\n",
              "    background-color: var(--disabled-bg-color);\n",
              "    fill: var(--disabled-fill-color);\n",
              "    box-shadow: none;\n",
              "  }\n",
              "\n",
              "  .colab-df-spinner {\n",
              "    border: 2px solid var(--fill-color);\n",
              "    border-color: transparent;\n",
              "    border-bottom-color: var(--fill-color);\n",
              "    animation:\n",
              "      spin 1s steps(1) infinite;\n",
              "  }\n",
              "\n",
              "  @keyframes spin {\n",
              "    0% {\n",
              "      border-color: transparent;\n",
              "      border-bottom-color: var(--fill-color);\n",
              "      border-left-color: var(--fill-color);\n",
              "    }\n",
              "    20% {\n",
              "      border-color: transparent;\n",
              "      border-left-color: var(--fill-color);\n",
              "      border-top-color: var(--fill-color);\n",
              "    }\n",
              "    30% {\n",
              "      border-color: transparent;\n",
              "      border-left-color: var(--fill-color);\n",
              "      border-top-color: var(--fill-color);\n",
              "      border-right-color: var(--fill-color);\n",
              "    }\n",
              "    40% {\n",
              "      border-color: transparent;\n",
              "      border-right-color: var(--fill-color);\n",
              "      border-top-color: var(--fill-color);\n",
              "    }\n",
              "    60% {\n",
              "      border-color: transparent;\n",
              "      border-right-color: var(--fill-color);\n",
              "    }\n",
              "    80% {\n",
              "      border-color: transparent;\n",
              "      border-right-color: var(--fill-color);\n",
              "      border-bottom-color: var(--fill-color);\n",
              "    }\n",
              "    90% {\n",
              "      border-color: transparent;\n",
              "      border-bottom-color: var(--fill-color);\n",
              "    }\n",
              "  }\n",
              "</style>\n",
              "\n",
              "  <script>\n",
              "    async function quickchart(key) {\n",
              "      const quickchartButtonEl =\n",
              "        document.querySelector('#' + key + ' button');\n",
              "      quickchartButtonEl.disabled = true;  // To prevent multiple clicks.\n",
              "      quickchartButtonEl.classList.add('colab-df-spinner');\n",
              "      try {\n",
              "        const charts = await google.colab.kernel.invokeFunction(\n",
              "            'suggestCharts', [key], {});\n",
              "      } catch (error) {\n",
              "        console.error('Error during call to suggestCharts:', error);\n",
              "      }\n",
              "      quickchartButtonEl.classList.remove('colab-df-spinner');\n",
              "      quickchartButtonEl.classList.add('colab-df-quickchart-complete');\n",
              "    }\n",
              "    (() => {\n",
              "      let quickchartButtonEl =\n",
              "        document.querySelector('#df-84e9228b-72e5-4a76-a5ac-8cf2ffbd89a2 button');\n",
              "      quickchartButtonEl.style.display =\n",
              "        google.colab.kernel.accessAllowed ? 'block' : 'none';\n",
              "    })();\n",
              "  </script>\n",
              "</div>\n",
              "    </div>\n",
              "  </div>\n"
            ]
          },
          "metadata": {},
          "execution_count": 3
        }
      ]
    },
    {
      "cell_type": "code",
      "source": [
        "college = college.drop(['Unnamed: 0'], axis=1)"
      ],
      "metadata": {
        "id": "5bvC2vfTctwd"
      },
      "execution_count": 4,
      "outputs": []
    },
    {
      "cell_type": "code",
      "source": [
        "college = pd.get_dummies(college, columns=['Private'])"
      ],
      "metadata": {
        "id": "uZ7kVxOcrm0H"
      },
      "execution_count": 5,
      "outputs": []
    },
    {
      "cell_type": "code",
      "source": [
        "college = college.drop(['Private_No'], axis=1)"
      ],
      "metadata": {
        "id": "4OHqlbmysUfr"
      },
      "execution_count": 6,
      "outputs": []
    },
    {
      "cell_type": "code",
      "source": [
        "X = college.drop(['Apps'], axis=1)"
      ],
      "metadata": {
        "id": "OTKbk5C2dBzR"
      },
      "execution_count": 7,
      "outputs": []
    },
    {
      "cell_type": "code",
      "source": [
        "y = college[['Apps']]"
      ],
      "metadata": {
        "id": "cQHvHocFcYXP"
      },
      "execution_count": 8,
      "outputs": []
    },
    {
      "cell_type": "markdown",
      "source": [
        "## 1-(a) Linear model (w. least squares)\n"
      ],
      "metadata": {
        "id": "_HDm-064bgZd"
      }
    },
    {
      "cell_type": "code",
      "execution_count": 9,
      "metadata": {
        "id": "seMnI_qWbMzq"
      },
      "outputs": [],
      "source": [
        "# https://scikit-learn.org/stable/modules/generated/sklearn.model_selection.train_test_split.html\n",
        "\n",
        "from sklearn.model_selection import train_test_split\n",
        "\n",
        "X_train, X_test, y_train, y_test = train_test_split(X, y, test_size=0.1, random_state=30)"
      ]
    },
    {
      "cell_type": "code",
      "source": [
        "# https://stackoverflow.com/questions/27928275/find-p-value-significance-in-scikit-learn-linearregression\n",
        "\n",
        "import statsmodels.api as sm\n",
        "\n",
        "X2 = sm.add_constant(X_train)\n",
        "lm = sm.OLS(y_train, X2)\n",
        "lm = lm.fit()"
      ],
      "metadata": {
        "id": "VNuHTvsyYHBV"
      },
      "execution_count": 10,
      "outputs": []
    },
    {
      "cell_type": "code",
      "source": [
        "lm.summary()"
      ],
      "metadata": {
        "colab": {
          "base_uri": "https://localhost:8080/",
          "height": 828
        },
        "id": "5m_0w16zE7zd",
        "outputId": "9c801737-5f72-43ca-8b0d-63bb69d4ca17"
      },
      "execution_count": 11,
      "outputs": [
        {
          "output_type": "execute_result",
          "data": {
            "text/plain": [
              "<class 'statsmodels.iolib.summary.Summary'>\n",
              "\"\"\"\n",
              "                            OLS Regression Results                            \n",
              "==============================================================================\n",
              "Dep. Variable:                   Apps   R-squared:                       0.935\n",
              "Model:                            OLS   Adj. R-squared:                  0.933\n",
              "Method:                 Least Squares   F-statistic:                     574.0\n",
              "Date:                Sat, 21 Oct 2023   Prob (F-statistic):               0.00\n",
              "Time:                        15:26:04   Log-Likelihood:                -5814.2\n",
              "No. Observations:                 699   AIC:                         1.166e+04\n",
              "Df Residuals:                     681   BIC:                         1.175e+04\n",
              "Df Model:                          17                                         \n",
              "Covariance Type:            nonrobust                                         \n",
              "===============================================================================\n",
              "                  coef    std err          t      P>|t|      [0.025      0.975]\n",
              "-------------------------------------------------------------------------------\n",
              "const        -302.9798    410.518     -0.738      0.461   -1109.012     503.053\n",
              "Accept          1.6239      0.041     39.896      0.000       1.544       1.704\n",
              "Enroll         -0.9567      0.186     -5.157      0.000      -1.321      -0.592\n",
              "Top10perc      45.6143      5.672      8.042      0.000      34.477      56.751\n",
              "Top25perc     -11.9206      4.536     -2.628      0.009     -20.827      -3.014\n",
              "F.Undergrad     0.0603      0.032      1.861      0.063      -0.003       0.124\n",
              "P.Undergrad     0.0537      0.032      1.691      0.091      -0.009       0.116\n",
              "Outstate       -0.0790      0.020     -4.004      0.000      -0.118      -0.040\n",
              "Room.Board      0.1179      0.049      2.383      0.017       0.021       0.215\n",
              "Books           0.1967      0.236      0.832      0.406      -0.267       0.661\n",
              "Personal        0.0045      0.065      0.069      0.945      -0.122       0.131\n",
              "PhD            -6.1186      4.672     -1.310      0.191     -15.291       3.054\n",
              "Terminal       -4.7022      5.164     -0.911      0.363     -14.842       5.438\n",
              "S.F.Ratio       4.9126     13.032      0.377      0.706     -20.674      30.499\n",
              "perc.alumni    -1.8567      4.154     -0.447      0.655     -10.014       6.300\n",
              "Expend          0.0693      0.013      5.298      0.000       0.044       0.095\n",
              "Grad.Rate       9.3981      3.005      3.127      0.002       3.497      15.299\n",
              "Private_Yes  -513.7267    140.930     -3.645      0.000    -790.435    -237.018\n",
              "==============================================================================\n",
              "Omnibus:                      416.597   Durbin-Watson:                   1.890\n",
              "Prob(Omnibus):                  0.000   Jarque-Bera (JB):             8248.182\n",
              "Skew:                           2.268   Prob(JB):                         0.00\n",
              "Kurtosis:                      19.206   Cond. No.                     1.80e+05\n",
              "==============================================================================\n",
              "\n",
              "Notes:\n",
              "[1] Standard Errors assume that the covariance matrix of the errors is correctly specified.\n",
              "[2] The condition number is large, 1.8e+05. This might indicate that there are\n",
              "strong multicollinearity or other numerical problems.\n",
              "\"\"\""
            ],
            "text/html": [
              "<table class=\"simpletable\">\n",
              "<caption>OLS Regression Results</caption>\n",
              "<tr>\n",
              "  <th>Dep. Variable:</th>          <td>Apps</td>       <th>  R-squared:         </th> <td>   0.935</td> \n",
              "</tr>\n",
              "<tr>\n",
              "  <th>Model:</th>                   <td>OLS</td>       <th>  Adj. R-squared:    </th> <td>   0.933</td> \n",
              "</tr>\n",
              "<tr>\n",
              "  <th>Method:</th>             <td>Least Squares</td>  <th>  F-statistic:       </th> <td>   574.0</td> \n",
              "</tr>\n",
              "<tr>\n",
              "  <th>Date:</th>             <td>Sat, 21 Oct 2023</td> <th>  Prob (F-statistic):</th>  <td>  0.00</td>  \n",
              "</tr>\n",
              "<tr>\n",
              "  <th>Time:</th>                 <td>15:26:04</td>     <th>  Log-Likelihood:    </th> <td> -5814.2</td> \n",
              "</tr>\n",
              "<tr>\n",
              "  <th>No. Observations:</th>      <td>   699</td>      <th>  AIC:               </th> <td>1.166e+04</td>\n",
              "</tr>\n",
              "<tr>\n",
              "  <th>Df Residuals:</th>          <td>   681</td>      <th>  BIC:               </th> <td>1.175e+04</td>\n",
              "</tr>\n",
              "<tr>\n",
              "  <th>Df Model:</th>              <td>    17</td>      <th>                     </th>     <td> </td>    \n",
              "</tr>\n",
              "<tr>\n",
              "  <th>Covariance Type:</th>      <td>nonrobust</td>    <th>                     </th>     <td> </td>    \n",
              "</tr>\n",
              "</table>\n",
              "<table class=\"simpletable\">\n",
              "<tr>\n",
              "       <td></td>          <th>coef</th>     <th>std err</th>      <th>t</th>      <th>P>|t|</th>  <th>[0.025</th>    <th>0.975]</th>  \n",
              "</tr>\n",
              "<tr>\n",
              "  <th>const</th>       <td> -302.9798</td> <td>  410.518</td> <td>   -0.738</td> <td> 0.461</td> <td>-1109.012</td> <td>  503.053</td>\n",
              "</tr>\n",
              "<tr>\n",
              "  <th>Accept</th>      <td>    1.6239</td> <td>    0.041</td> <td>   39.896</td> <td> 0.000</td> <td>    1.544</td> <td>    1.704</td>\n",
              "</tr>\n",
              "<tr>\n",
              "  <th>Enroll</th>      <td>   -0.9567</td> <td>    0.186</td> <td>   -5.157</td> <td> 0.000</td> <td>   -1.321</td> <td>   -0.592</td>\n",
              "</tr>\n",
              "<tr>\n",
              "  <th>Top10perc</th>   <td>   45.6143</td> <td>    5.672</td> <td>    8.042</td> <td> 0.000</td> <td>   34.477</td> <td>   56.751</td>\n",
              "</tr>\n",
              "<tr>\n",
              "  <th>Top25perc</th>   <td>  -11.9206</td> <td>    4.536</td> <td>   -2.628</td> <td> 0.009</td> <td>  -20.827</td> <td>   -3.014</td>\n",
              "</tr>\n",
              "<tr>\n",
              "  <th>F.Undergrad</th> <td>    0.0603</td> <td>    0.032</td> <td>    1.861</td> <td> 0.063</td> <td>   -0.003</td> <td>    0.124</td>\n",
              "</tr>\n",
              "<tr>\n",
              "  <th>P.Undergrad</th> <td>    0.0537</td> <td>    0.032</td> <td>    1.691</td> <td> 0.091</td> <td>   -0.009</td> <td>    0.116</td>\n",
              "</tr>\n",
              "<tr>\n",
              "  <th>Outstate</th>    <td>   -0.0790</td> <td>    0.020</td> <td>   -4.004</td> <td> 0.000</td> <td>   -0.118</td> <td>   -0.040</td>\n",
              "</tr>\n",
              "<tr>\n",
              "  <th>Room.Board</th>  <td>    0.1179</td> <td>    0.049</td> <td>    2.383</td> <td> 0.017</td> <td>    0.021</td> <td>    0.215</td>\n",
              "</tr>\n",
              "<tr>\n",
              "  <th>Books</th>       <td>    0.1967</td> <td>    0.236</td> <td>    0.832</td> <td> 0.406</td> <td>   -0.267</td> <td>    0.661</td>\n",
              "</tr>\n",
              "<tr>\n",
              "  <th>Personal</th>    <td>    0.0045</td> <td>    0.065</td> <td>    0.069</td> <td> 0.945</td> <td>   -0.122</td> <td>    0.131</td>\n",
              "</tr>\n",
              "<tr>\n",
              "  <th>PhD</th>         <td>   -6.1186</td> <td>    4.672</td> <td>   -1.310</td> <td> 0.191</td> <td>  -15.291</td> <td>    3.054</td>\n",
              "</tr>\n",
              "<tr>\n",
              "  <th>Terminal</th>    <td>   -4.7022</td> <td>    5.164</td> <td>   -0.911</td> <td> 0.363</td> <td>  -14.842</td> <td>    5.438</td>\n",
              "</tr>\n",
              "<tr>\n",
              "  <th>S.F.Ratio</th>   <td>    4.9126</td> <td>   13.032</td> <td>    0.377</td> <td> 0.706</td> <td>  -20.674</td> <td>   30.499</td>\n",
              "</tr>\n",
              "<tr>\n",
              "  <th>perc.alumni</th> <td>   -1.8567</td> <td>    4.154</td> <td>   -0.447</td> <td> 0.655</td> <td>  -10.014</td> <td>    6.300</td>\n",
              "</tr>\n",
              "<tr>\n",
              "  <th>Expend</th>      <td>    0.0693</td> <td>    0.013</td> <td>    5.298</td> <td> 0.000</td> <td>    0.044</td> <td>    0.095</td>\n",
              "</tr>\n",
              "<tr>\n",
              "  <th>Grad.Rate</th>   <td>    9.3981</td> <td>    3.005</td> <td>    3.127</td> <td> 0.002</td> <td>    3.497</td> <td>   15.299</td>\n",
              "</tr>\n",
              "<tr>\n",
              "  <th>Private_Yes</th> <td> -513.7267</td> <td>  140.930</td> <td>   -3.645</td> <td> 0.000</td> <td> -790.435</td> <td> -237.018</td>\n",
              "</tr>\n",
              "</table>\n",
              "<table class=\"simpletable\">\n",
              "<tr>\n",
              "  <th>Omnibus:</th>       <td>416.597</td> <th>  Durbin-Watson:     </th> <td>   1.890</td>\n",
              "</tr>\n",
              "<tr>\n",
              "  <th>Prob(Omnibus):</th> <td> 0.000</td>  <th>  Jarque-Bera (JB):  </th> <td>8248.182</td>\n",
              "</tr>\n",
              "<tr>\n",
              "  <th>Skew:</th>          <td> 2.268</td>  <th>  Prob(JB):          </th> <td>    0.00</td>\n",
              "</tr>\n",
              "<tr>\n",
              "  <th>Kurtosis:</th>      <td>19.206</td>  <th>  Cond. No.          </th> <td>1.80e+05</td>\n",
              "</tr>\n",
              "</table><br/><br/>Notes:<br/>[1] Standard Errors assume that the covariance matrix of the errors is correctly specified.<br/>[2] The condition number is large, 1.8e+05. This might indicate that there are<br/>strong multicollinearity or other numerical problems."
            ],
            "text/latex": "\\begin{center}\n\\begin{tabular}{lclc}\n\\toprule\n\\textbf{Dep. Variable:}    &       Apps       & \\textbf{  R-squared:         } &     0.935   \\\\\n\\textbf{Model:}            &       OLS        & \\textbf{  Adj. R-squared:    } &     0.933   \\\\\n\\textbf{Method:}           &  Least Squares   & \\textbf{  F-statistic:       } &     574.0   \\\\\n\\textbf{Date:}             & Sat, 21 Oct 2023 & \\textbf{  Prob (F-statistic):} &     0.00    \\\\\n\\textbf{Time:}             &     15:26:04     & \\textbf{  Log-Likelihood:    } &   -5814.2   \\\\\n\\textbf{No. Observations:} &         699      & \\textbf{  AIC:               } & 1.166e+04   \\\\\n\\textbf{Df Residuals:}     &         681      & \\textbf{  BIC:               } & 1.175e+04   \\\\\n\\textbf{Df Model:}         &          17      & \\textbf{                     } &             \\\\\n\\textbf{Covariance Type:}  &    nonrobust     & \\textbf{                     } &             \\\\\n\\bottomrule\n\\end{tabular}\n\\begin{tabular}{lcccccc}\n                      & \\textbf{coef} & \\textbf{std err} & \\textbf{t} & \\textbf{P$> |$t$|$} & \\textbf{[0.025} & \\textbf{0.975]}  \\\\\n\\midrule\n\\textbf{const}        &    -302.9798  &      410.518     &    -0.738  &         0.461        &    -1109.012    &      503.053     \\\\\n\\textbf{Accept}       &       1.6239  &        0.041     &    39.896  &         0.000        &        1.544    &        1.704     \\\\\n\\textbf{Enroll}       &      -0.9567  &        0.186     &    -5.157  &         0.000        &       -1.321    &       -0.592     \\\\\n\\textbf{Top10perc}    &      45.6143  &        5.672     &     8.042  &         0.000        &       34.477    &       56.751     \\\\\n\\textbf{Top25perc}    &     -11.9206  &        4.536     &    -2.628  &         0.009        &      -20.827    &       -3.014     \\\\\n\\textbf{F.Undergrad}  &       0.0603  &        0.032     &     1.861  &         0.063        &       -0.003    &        0.124     \\\\\n\\textbf{P.Undergrad}  &       0.0537  &        0.032     &     1.691  &         0.091        &       -0.009    &        0.116     \\\\\n\\textbf{Outstate}     &      -0.0790  &        0.020     &    -4.004  &         0.000        &       -0.118    &       -0.040     \\\\\n\\textbf{Room.Board}   &       0.1179  &        0.049     &     2.383  &         0.017        &        0.021    &        0.215     \\\\\n\\textbf{Books}        &       0.1967  &        0.236     &     0.832  &         0.406        &       -0.267    &        0.661     \\\\\n\\textbf{Personal}     &       0.0045  &        0.065     &     0.069  &         0.945        &       -0.122    &        0.131     \\\\\n\\textbf{PhD}          &      -6.1186  &        4.672     &    -1.310  &         0.191        &      -15.291    &        3.054     \\\\\n\\textbf{Terminal}     &      -4.7022  &        5.164     &    -0.911  &         0.363        &      -14.842    &        5.438     \\\\\n\\textbf{S.F.Ratio}    &       4.9126  &       13.032     &     0.377  &         0.706        &      -20.674    &       30.499     \\\\\n\\textbf{perc.alumni}  &      -1.8567  &        4.154     &    -0.447  &         0.655        &      -10.014    &        6.300     \\\\\n\\textbf{Expend}       &       0.0693  &        0.013     &     5.298  &         0.000        &        0.044    &        0.095     \\\\\n\\textbf{Grad.Rate}    &       9.3981  &        3.005     &     3.127  &         0.002        &        3.497    &       15.299     \\\\\n\\textbf{Private\\_Yes} &    -513.7267  &      140.930     &    -3.645  &         0.000        &     -790.435    &     -237.018     \\\\\n\\bottomrule\n\\end{tabular}\n\\begin{tabular}{lclc}\n\\textbf{Omnibus:}       & 416.597 & \\textbf{  Durbin-Watson:     } &    1.890  \\\\\n\\textbf{Prob(Omnibus):} &   0.000 & \\textbf{  Jarque-Bera (JB):  } & 8248.182  \\\\\n\\textbf{Skew:}          &   2.268 & \\textbf{  Prob(JB):          } &     0.00  \\\\\n\\textbf{Kurtosis:}      &  19.206 & \\textbf{  Cond. No.          } & 1.80e+05  \\\\\n\\bottomrule\n\\end{tabular}\n%\\caption{OLS Regression Results}\n\\end{center}\n\nNotes: \\newline\n [1] Standard Errors assume that the covariance matrix of the errors is correctly specified. \\newline\n [2] The condition number is large, 1.8e+05. This might indicate that there are \\newline\n strong multicollinearity or other numerical problems."
          },
          "metadata": {},
          "execution_count": 11
        }
      ]
    },
    {
      "cell_type": "code",
      "source": [
        "lm_pred = lm.predict(sm.add_constant(X_test))"
      ],
      "metadata": {
        "id": "_ksb-Ff9_DFs"
      },
      "execution_count": 12,
      "outputs": []
    },
    {
      "cell_type": "code",
      "source": [
        "from sklearn.metrics import mean_squared_error\n",
        "\n",
        "lm_error = mean_squared_error(y_test, lm_pred)\n",
        "\n",
        "print(\"Linear regression test error estimation(MSE):\", lm_error)"
      ],
      "metadata": {
        "colab": {
          "base_uri": "https://localhost:8080/"
        },
        "id": "KsKN4KxS-1N0",
        "outputId": "f539ab4c-7129-4e5b-ca39-37bad4576e1b"
      },
      "execution_count": 13,
      "outputs": [
        {
          "output_type": "stream",
          "name": "stdout",
          "text": [
            "Linear regression test error estimation(MSE): 1826022.1276880263\n"
          ]
        }
      ]
    },
    {
      "cell_type": "markdown",
      "source": [
        "## 1-(b) Ridge Regression"
      ],
      "metadata": {
        "id": "z10rOwyUfRqu"
      }
    },
    {
      "cell_type": "code",
      "source": [
        "def k_fold(k, X, y, model):\n",
        "\n",
        "  X, y =  shuffle(X, y, random_state = 50)\n",
        "\n",
        "  slicing = len(X)//k\n",
        "  val_error_list = []\n",
        "\n",
        "  for i in range(k):\n",
        "    start = slicing*i\n",
        "    end = slicing*(i+1)\n",
        "    if i == k-1:\n",
        "      end = len(X)\n",
        "\n",
        "    X_val = X[start:end]\n",
        "    y_val = y[start:end]\n",
        "    X_train = X.drop(X.index[start:end])\n",
        "    y_train = y.drop(y.index[start:end])\n",
        "\n",
        "    model.fit(X_train, y_train)\n",
        "    y_pred = model.predict(X_val)\n",
        "    val_error_tmp = mean_squared_error(y_pred, y_val)\n",
        "    val_error_list.append(val_error_tmp)\n",
        "\n",
        "  return val_error_list"
      ],
      "metadata": {
        "id": "K-OJVl9SFXcX"
      },
      "execution_count": 14,
      "outputs": []
    },
    {
      "cell_type": "code",
      "source": [
        "# https://scikit-learn.org/stable/modules/generated/sklearn.linear_model.Ridge.html\n",
        "# https://scikit-learn.org/stable/modules/model_evaluation.html#scoring-parameter\n",
        "# https://scikit-learn.org/stable/modules/generated/sklearn.metrics.mean_squared_error.html#sklearn.metrics.mean_squared_error\n",
        "\n",
        "from sklearn.linear_model import Ridge\n",
        "from sklearn.model_selection import cross_val_score\n",
        "from sklearn.utils import shuffle\n",
        "from sklearn.pipeline import make_pipeline\n",
        "from sklearn import preprocessing\n",
        "\n",
        "alpha_list = []\n",
        "for i in range(-4, 6):\n",
        "  alpha_list.append(pow(10, i))\n",
        "\n",
        "cv_err_list = []\n",
        "\n",
        "for a in alpha_list:\n",
        "  ridge = make_pipeline(preprocessing.StandardScaler(), Ridge(alpha=a))\n",
        "  fold_error = k_fold(10, X_train, y_train, ridge)\n",
        "  cv_err_list.append(sum(fold_error)/len(fold_error))"
      ],
      "metadata": {
        "id": "-U0vei1geqWI"
      },
      "execution_count": 15,
      "outputs": []
    },
    {
      "cell_type": "code",
      "source": [
        "cv_err_list"
      ],
      "metadata": {
        "colab": {
          "base_uri": "https://localhost:8080/"
        },
        "id": "NlV-Rnsp3gM0",
        "outputId": "36b79c55-0397-49c6-fb03-b0f79072e4b9"
      },
      "execution_count": 16,
      "outputs": [
        {
          "output_type": "execute_result",
          "data": {
            "text/plain": [
              "[1197081.2552030333,\n",
              " 1197084.276630632,\n",
              " 1197114.5293666155,\n",
              " 1197420.8723657443,\n",
              " 1200837.54185592,\n",
              " 1253883.3086143904,\n",
              " 1760454.3276477437,\n",
              " 3760432.7278959802,\n",
              " 10685683.590804912,\n",
              " 14489126.759424787]"
            ]
          },
          "metadata": {},
          "execution_count": 16
        }
      ]
    },
    {
      "cell_type": "code",
      "source": [
        "min_idx = cv_err_list.index(min(cv_err_list))"
      ],
      "metadata": {
        "id": "7lAdT1uy9EO-"
      },
      "execution_count": 17,
      "outputs": []
    },
    {
      "cell_type": "code",
      "source": [
        "alpha_list[min_idx]"
      ],
      "metadata": {
        "colab": {
          "base_uri": "https://localhost:8080/"
        },
        "id": "7ScuQuK69nhl",
        "outputId": "f326bfd6-3a26-45ff-b4a1-e50ddf091c50"
      },
      "execution_count": 18,
      "outputs": [
        {
          "output_type": "execute_result",
          "data": {
            "text/plain": [
              "0.0001"
            ]
          },
          "metadata": {},
          "execution_count": 18
        }
      ]
    },
    {
      "cell_type": "code",
      "source": [
        "# Re-fit the ridge\n",
        "\n",
        "\n",
        "ridge = make_pipeline(preprocessing.StandardScaler(), Ridge(alpha=alpha_list[min_idx]))\n",
        "\n",
        "ridge.fit(X_train, y_train)\n",
        "\n",
        "ridge_pred = ridge.predict(X_test)\n",
        "\n",
        "ridge_error = mean_squared_error(y_test, ridge_pred)\n",
        "\n",
        "print(\"Ridge test error:\", ridge_error)"
      ],
      "metadata": {
        "colab": {
          "base_uri": "https://localhost:8080/"
        },
        "id": "3LrMya7c9qSn",
        "outputId": "0bcbd4df-bdaf-4e69-8c6f-28fab66df7b5"
      },
      "execution_count": 19,
      "outputs": [
        {
          "output_type": "stream",
          "name": "stdout",
          "text": [
            "Ridge test error: 1826021.1876425373\n"
          ]
        }
      ]
    },
    {
      "cell_type": "code",
      "source": [
        "from sklearn.metrics import r2_score\n",
        "\n",
        "ridge_score = r2_score(y_test, ridge_pred)\n",
        "print(\"Ridge r2 score:\", ridge_score)"
      ],
      "metadata": {
        "colab": {
          "base_uri": "https://localhost:8080/"
        },
        "id": "YDPonNY7FIhH",
        "outputId": "f81c0bed-1907-4912-9d4c-0601a3cbb03f"
      },
      "execution_count": 20,
      "outputs": [
        {
          "output_type": "stream",
          "name": "stdout",
          "text": [
            "Ridge r2 score: 0.8699386605852428\n"
          ]
        }
      ]
    },
    {
      "cell_type": "markdown",
      "source": [
        "## 1-(c) Lasso\n"
      ],
      "metadata": {
        "id": "CeBpl0JXfYTg"
      }
    },
    {
      "cell_type": "code",
      "source": [
        "from sklearn.linear_model import Lasso\n",
        "\n",
        "cv_err_list_l = []\n",
        "\n",
        "for a in alpha_list:\n",
        "  lasso = make_pipeline(preprocessing.StandardScaler(), Lasso(alpha=a))\n",
        "  fold_error = k_fold(10, X_train, y_train, lasso)\n",
        "  cv_err_list_l.append(sum(fold_error)/len(fold_error))"
      ],
      "metadata": {
        "id": "1fnZLwJECC1R"
      },
      "execution_count": 21,
      "outputs": []
    },
    {
      "cell_type": "code",
      "source": [
        "min_idx = cv_err_list_l.index(min(cv_err_list_l))"
      ],
      "metadata": {
        "id": "_sXzY8TWCYhF"
      },
      "execution_count": 23,
      "outputs": []
    },
    {
      "cell_type": "code",
      "source": [
        "alpha_list[min_idx]"
      ],
      "metadata": {
        "colab": {
          "base_uri": "https://localhost:8080/"
        },
        "outputId": "f0a55155-7799-4c30-ef05-9527b0ce0134",
        "id": "Yk05OJLfCYhF"
      },
      "execution_count": 24,
      "outputs": [
        {
          "output_type": "execute_result",
          "data": {
            "text/plain": [
              "0.0001"
            ]
          },
          "metadata": {},
          "execution_count": 24
        }
      ]
    },
    {
      "cell_type": "code",
      "source": [
        "# Re-fit the lasso\n",
        "\n",
        "lasso = make_pipeline(preprocessing.StandardScaler(), Lasso(alpha=alpha_list[min_idx]))\n",
        "\n",
        "lasso.fit(X_train, y_train)\n",
        "\n",
        "lasso_pred = lasso.predict(X_test)\n",
        "\n",
        "lasso_error = mean_squared_error(y_test, lasso_pred)\n",
        "\n",
        "print(\"Lasso test error:\", lasso_error)"
      ],
      "metadata": {
        "colab": {
          "base_uri": "https://localhost:8080/"
        },
        "outputId": "4162f474-2eeb-4c18-d975-b91d62a025c4",
        "id": "Ky0YBlxZCYhF"
      },
      "execution_count": 25,
      "outputs": [
        {
          "output_type": "stream",
          "name": "stdout",
          "text": [
            "Lasso test error: 1826022.2331629526\n"
          ]
        }
      ]
    },
    {
      "cell_type": "code",
      "source": [
        "lasso_score = r2_score(y_test, lasso_pred)\n",
        "print(\"Lasso r2 score:\", lasso_score)"
      ],
      "metadata": {
        "colab": {
          "base_uri": "https://localhost:8080/"
        },
        "id": "rw7npFOmFB0E",
        "outputId": "57442971-26c9-46e2-97ae-bb43e8c04ed1"
      },
      "execution_count": 26,
      "outputs": [
        {
          "output_type": "stream",
          "name": "stdout",
          "text": [
            "Lasso r2 score: 0.8699385861163449\n"
          ]
        }
      ]
    },
    {
      "cell_type": "code",
      "source": [
        "lasso.steps"
      ],
      "metadata": {
        "colab": {
          "base_uri": "https://localhost:8080/"
        },
        "id": "u9wLpIofELjE",
        "outputId": "2633169a-aa12-45c0-c907-20897164c9a1"
      },
      "execution_count": 27,
      "outputs": [
        {
          "output_type": "execute_result",
          "data": {
            "text/plain": [
              "[('standardscaler', StandardScaler()), ('lasso', Lasso(alpha=0.0001))]"
            ]
          },
          "metadata": {},
          "execution_count": 27
        }
      ]
    },
    {
      "cell_type": "code",
      "source": [
        "# https://stackoverflow.com/questions/43856280/return-coefficients-from-pipeline-object-in-sklearn\n",
        "\n",
        "lasso.steps[1][1].coef_"
      ],
      "metadata": {
        "colab": {
          "base_uri": "https://localhost:8080/"
        },
        "id": "ucmv7CPWGKlf",
        "outputId": "86f97104-6ae4-4c0f-b29b-dba2521d32c3"
      },
      "execution_count": 28,
      "outputs": [
        {
          "output_type": "execute_result",
          "data": {
            "text/plain": [
              "array([ 3.94914979e+03, -8.80112088e+02,  8.06964667e+02, -2.38138653e+02,\n",
              "        2.90694514e+02,  8.33500666e+01, -3.19138514e+02,  1.31111500e+02,\n",
              "        3.32329675e+01,  3.01820162e+00, -1.00932618e+02, -6.98607372e+01,\n",
              "        1.94740240e+01, -2.30349979e+01,  3.49769491e+02,  1.61571947e+02,\n",
              "       -2.28176454e+02])"
            ]
          },
          "metadata": {},
          "execution_count": 28
        }
      ]
    },
    {
      "cell_type": "markdown",
      "source": [
        "# 2"
      ],
      "metadata": {
        "id": "A5ORvuG2IV5O"
      }
    },
    {
      "cell_type": "code",
      "source": [
        "boston = pd.read_csv('./Boston.csv')"
      ],
      "metadata": {
        "id": "4aX4JGmNIWfD"
      },
      "execution_count": 29,
      "outputs": []
    },
    {
      "cell_type": "code",
      "source": [
        "boston.info()"
      ],
      "metadata": {
        "colab": {
          "base_uri": "https://localhost:8080/"
        },
        "id": "EQ04g6IVIeFh",
        "outputId": "6938ceea-0958-4bb2-dfd4-b69161da032b"
      },
      "execution_count": 30,
      "outputs": [
        {
          "output_type": "stream",
          "name": "stdout",
          "text": [
            "<class 'pandas.core.frame.DataFrame'>\n",
            "RangeIndex: 506 entries, 0 to 505\n",
            "Data columns (total 14 columns):\n",
            " #   Column      Non-Null Count  Dtype  \n",
            "---  ------      --------------  -----  \n",
            " 0   Unnamed: 0  506 non-null    int64  \n",
            " 1   crim        506 non-null    float64\n",
            " 2   zn          506 non-null    float64\n",
            " 3   indus       506 non-null    float64\n",
            " 4   chas        506 non-null    int64  \n",
            " 5   nox         506 non-null    float64\n",
            " 6   rm          506 non-null    float64\n",
            " 7   age         506 non-null    float64\n",
            " 8   dis         506 non-null    float64\n",
            " 9   rad         506 non-null    int64  \n",
            " 10  tax         506 non-null    int64  \n",
            " 11  ptratio     506 non-null    float64\n",
            " 12  lstat       506 non-null    float64\n",
            " 13  medv        506 non-null    float64\n",
            "dtypes: float64(10), int64(4)\n",
            "memory usage: 55.5 KB\n"
          ]
        }
      ]
    },
    {
      "cell_type": "code",
      "source": [
        "boston.head()"
      ],
      "metadata": {
        "colab": {
          "base_uri": "https://localhost:8080/",
          "height": 206
        },
        "id": "LVgDBcJAIgnL",
        "outputId": "742957c6-8fcc-4927-85bf-2496e3758f61"
      },
      "execution_count": 31,
      "outputs": [
        {
          "output_type": "execute_result",
          "data": {
            "text/plain": [
              "   Unnamed: 0     crim    zn  indus  chas    nox     rm   age     dis  rad  \\\n",
              "0           1  0.00632  18.0   2.31     0  0.538  6.575  65.2  4.0900    1   \n",
              "1           2  0.02731   0.0   7.07     0  0.469  6.421  78.9  4.9671    2   \n",
              "2           3  0.02729   0.0   7.07     0  0.469  7.185  61.1  4.9671    2   \n",
              "3           4  0.03237   0.0   2.18     0  0.458  6.998  45.8  6.0622    3   \n",
              "4           5  0.06905   0.0   2.18     0  0.458  7.147  54.2  6.0622    3   \n",
              "\n",
              "   tax  ptratio  lstat  medv  \n",
              "0  296     15.3   4.98  24.0  \n",
              "1  242     17.8   9.14  21.6  \n",
              "2  242     17.8   4.03  34.7  \n",
              "3  222     18.7   2.94  33.4  \n",
              "4  222     18.7   5.33  36.2  "
            ],
            "text/html": [
              "\n",
              "  <div id=\"df-45e39f19-800a-4c3c-9c67-a5d2035a337f\" class=\"colab-df-container\">\n",
              "    <div>\n",
              "<style scoped>\n",
              "    .dataframe tbody tr th:only-of-type {\n",
              "        vertical-align: middle;\n",
              "    }\n",
              "\n",
              "    .dataframe tbody tr th {\n",
              "        vertical-align: top;\n",
              "    }\n",
              "\n",
              "    .dataframe thead th {\n",
              "        text-align: right;\n",
              "    }\n",
              "</style>\n",
              "<table border=\"1\" class=\"dataframe\">\n",
              "  <thead>\n",
              "    <tr style=\"text-align: right;\">\n",
              "      <th></th>\n",
              "      <th>Unnamed: 0</th>\n",
              "      <th>crim</th>\n",
              "      <th>zn</th>\n",
              "      <th>indus</th>\n",
              "      <th>chas</th>\n",
              "      <th>nox</th>\n",
              "      <th>rm</th>\n",
              "      <th>age</th>\n",
              "      <th>dis</th>\n",
              "      <th>rad</th>\n",
              "      <th>tax</th>\n",
              "      <th>ptratio</th>\n",
              "      <th>lstat</th>\n",
              "      <th>medv</th>\n",
              "    </tr>\n",
              "  </thead>\n",
              "  <tbody>\n",
              "    <tr>\n",
              "      <th>0</th>\n",
              "      <td>1</td>\n",
              "      <td>0.00632</td>\n",
              "      <td>18.0</td>\n",
              "      <td>2.31</td>\n",
              "      <td>0</td>\n",
              "      <td>0.538</td>\n",
              "      <td>6.575</td>\n",
              "      <td>65.2</td>\n",
              "      <td>4.0900</td>\n",
              "      <td>1</td>\n",
              "      <td>296</td>\n",
              "      <td>15.3</td>\n",
              "      <td>4.98</td>\n",
              "      <td>24.0</td>\n",
              "    </tr>\n",
              "    <tr>\n",
              "      <th>1</th>\n",
              "      <td>2</td>\n",
              "      <td>0.02731</td>\n",
              "      <td>0.0</td>\n",
              "      <td>7.07</td>\n",
              "      <td>0</td>\n",
              "      <td>0.469</td>\n",
              "      <td>6.421</td>\n",
              "      <td>78.9</td>\n",
              "      <td>4.9671</td>\n",
              "      <td>2</td>\n",
              "      <td>242</td>\n",
              "      <td>17.8</td>\n",
              "      <td>9.14</td>\n",
              "      <td>21.6</td>\n",
              "    </tr>\n",
              "    <tr>\n",
              "      <th>2</th>\n",
              "      <td>3</td>\n",
              "      <td>0.02729</td>\n",
              "      <td>0.0</td>\n",
              "      <td>7.07</td>\n",
              "      <td>0</td>\n",
              "      <td>0.469</td>\n",
              "      <td>7.185</td>\n",
              "      <td>61.1</td>\n",
              "      <td>4.9671</td>\n",
              "      <td>2</td>\n",
              "      <td>242</td>\n",
              "      <td>17.8</td>\n",
              "      <td>4.03</td>\n",
              "      <td>34.7</td>\n",
              "    </tr>\n",
              "    <tr>\n",
              "      <th>3</th>\n",
              "      <td>4</td>\n",
              "      <td>0.03237</td>\n",
              "      <td>0.0</td>\n",
              "      <td>2.18</td>\n",
              "      <td>0</td>\n",
              "      <td>0.458</td>\n",
              "      <td>6.998</td>\n",
              "      <td>45.8</td>\n",
              "      <td>6.0622</td>\n",
              "      <td>3</td>\n",
              "      <td>222</td>\n",
              "      <td>18.7</td>\n",
              "      <td>2.94</td>\n",
              "      <td>33.4</td>\n",
              "    </tr>\n",
              "    <tr>\n",
              "      <th>4</th>\n",
              "      <td>5</td>\n",
              "      <td>0.06905</td>\n",
              "      <td>0.0</td>\n",
              "      <td>2.18</td>\n",
              "      <td>0</td>\n",
              "      <td>0.458</td>\n",
              "      <td>7.147</td>\n",
              "      <td>54.2</td>\n",
              "      <td>6.0622</td>\n",
              "      <td>3</td>\n",
              "      <td>222</td>\n",
              "      <td>18.7</td>\n",
              "      <td>5.33</td>\n",
              "      <td>36.2</td>\n",
              "    </tr>\n",
              "  </tbody>\n",
              "</table>\n",
              "</div>\n",
              "    <div class=\"colab-df-buttons\">\n",
              "\n",
              "  <div class=\"colab-df-container\">\n",
              "    <button class=\"colab-df-convert\" onclick=\"convertToInteractive('df-45e39f19-800a-4c3c-9c67-a5d2035a337f')\"\n",
              "            title=\"Convert this dataframe to an interactive table.\"\n",
              "            style=\"display:none;\">\n",
              "\n",
              "  <svg xmlns=\"http://www.w3.org/2000/svg\" height=\"24px\" viewBox=\"0 -960 960 960\">\n",
              "    <path d=\"M120-120v-720h720v720H120Zm60-500h600v-160H180v160Zm220 220h160v-160H400v160Zm0 220h160v-160H400v160ZM180-400h160v-160H180v160Zm440 0h160v-160H620v160ZM180-180h160v-160H180v160Zm440 0h160v-160H620v160Z\"/>\n",
              "  </svg>\n",
              "    </button>\n",
              "\n",
              "  <style>\n",
              "    .colab-df-container {\n",
              "      display:flex;\n",
              "      gap: 12px;\n",
              "    }\n",
              "\n",
              "    .colab-df-convert {\n",
              "      background-color: #E8F0FE;\n",
              "      border: none;\n",
              "      border-radius: 50%;\n",
              "      cursor: pointer;\n",
              "      display: none;\n",
              "      fill: #1967D2;\n",
              "      height: 32px;\n",
              "      padding: 0 0 0 0;\n",
              "      width: 32px;\n",
              "    }\n",
              "\n",
              "    .colab-df-convert:hover {\n",
              "      background-color: #E2EBFA;\n",
              "      box-shadow: 0px 1px 2px rgba(60, 64, 67, 0.3), 0px 1px 3px 1px rgba(60, 64, 67, 0.15);\n",
              "      fill: #174EA6;\n",
              "    }\n",
              "\n",
              "    .colab-df-buttons div {\n",
              "      margin-bottom: 4px;\n",
              "    }\n",
              "\n",
              "    [theme=dark] .colab-df-convert {\n",
              "      background-color: #3B4455;\n",
              "      fill: #D2E3FC;\n",
              "    }\n",
              "\n",
              "    [theme=dark] .colab-df-convert:hover {\n",
              "      background-color: #434B5C;\n",
              "      box-shadow: 0px 1px 3px 1px rgba(0, 0, 0, 0.15);\n",
              "      filter: drop-shadow(0px 1px 2px rgba(0, 0, 0, 0.3));\n",
              "      fill: #FFFFFF;\n",
              "    }\n",
              "  </style>\n",
              "\n",
              "    <script>\n",
              "      const buttonEl =\n",
              "        document.querySelector('#df-45e39f19-800a-4c3c-9c67-a5d2035a337f button.colab-df-convert');\n",
              "      buttonEl.style.display =\n",
              "        google.colab.kernel.accessAllowed ? 'block' : 'none';\n",
              "\n",
              "      async function convertToInteractive(key) {\n",
              "        const element = document.querySelector('#df-45e39f19-800a-4c3c-9c67-a5d2035a337f');\n",
              "        const dataTable =\n",
              "          await google.colab.kernel.invokeFunction('convertToInteractive',\n",
              "                                                    [key], {});\n",
              "        if (!dataTable) return;\n",
              "\n",
              "        const docLinkHtml = 'Like what you see? Visit the ' +\n",
              "          '<a target=\"_blank\" href=https://colab.research.google.com/notebooks/data_table.ipynb>data table notebook</a>'\n",
              "          + ' to learn more about interactive tables.';\n",
              "        element.innerHTML = '';\n",
              "        dataTable['output_type'] = 'display_data';\n",
              "        await google.colab.output.renderOutput(dataTable, element);\n",
              "        const docLink = document.createElement('div');\n",
              "        docLink.innerHTML = docLinkHtml;\n",
              "        element.appendChild(docLink);\n",
              "      }\n",
              "    </script>\n",
              "  </div>\n",
              "\n",
              "\n",
              "<div id=\"df-5c23ef31-0e50-45aa-a2b5-8f70d346572e\">\n",
              "  <button class=\"colab-df-quickchart\" onclick=\"quickchart('df-5c23ef31-0e50-45aa-a2b5-8f70d346572e')\"\n",
              "            title=\"Suggest charts.\"\n",
              "            style=\"display:none;\">\n",
              "\n",
              "<svg xmlns=\"http://www.w3.org/2000/svg\" height=\"24px\"viewBox=\"0 0 24 24\"\n",
              "     width=\"24px\">\n",
              "    <g>\n",
              "        <path d=\"M19 3H5c-1.1 0-2 .9-2 2v14c0 1.1.9 2 2 2h14c1.1 0 2-.9 2-2V5c0-1.1-.9-2-2-2zM9 17H7v-7h2v7zm4 0h-2V7h2v10zm4 0h-2v-4h2v4z\"/>\n",
              "    </g>\n",
              "</svg>\n",
              "  </button>\n",
              "\n",
              "<style>\n",
              "  .colab-df-quickchart {\n",
              "      --bg-color: #E8F0FE;\n",
              "      --fill-color: #1967D2;\n",
              "      --hover-bg-color: #E2EBFA;\n",
              "      --hover-fill-color: #174EA6;\n",
              "      --disabled-fill-color: #AAA;\n",
              "      --disabled-bg-color: #DDD;\n",
              "  }\n",
              "\n",
              "  [theme=dark] .colab-df-quickchart {\n",
              "      --bg-color: #3B4455;\n",
              "      --fill-color: #D2E3FC;\n",
              "      --hover-bg-color: #434B5C;\n",
              "      --hover-fill-color: #FFFFFF;\n",
              "      --disabled-bg-color: #3B4455;\n",
              "      --disabled-fill-color: #666;\n",
              "  }\n",
              "\n",
              "  .colab-df-quickchart {\n",
              "    background-color: var(--bg-color);\n",
              "    border: none;\n",
              "    border-radius: 50%;\n",
              "    cursor: pointer;\n",
              "    display: none;\n",
              "    fill: var(--fill-color);\n",
              "    height: 32px;\n",
              "    padding: 0;\n",
              "    width: 32px;\n",
              "  }\n",
              "\n",
              "  .colab-df-quickchart:hover {\n",
              "    background-color: var(--hover-bg-color);\n",
              "    box-shadow: 0 1px 2px rgba(60, 64, 67, 0.3), 0 1px 3px 1px rgba(60, 64, 67, 0.15);\n",
              "    fill: var(--button-hover-fill-color);\n",
              "  }\n",
              "\n",
              "  .colab-df-quickchart-complete:disabled,\n",
              "  .colab-df-quickchart-complete:disabled:hover {\n",
              "    background-color: var(--disabled-bg-color);\n",
              "    fill: var(--disabled-fill-color);\n",
              "    box-shadow: none;\n",
              "  }\n",
              "\n",
              "  .colab-df-spinner {\n",
              "    border: 2px solid var(--fill-color);\n",
              "    border-color: transparent;\n",
              "    border-bottom-color: var(--fill-color);\n",
              "    animation:\n",
              "      spin 1s steps(1) infinite;\n",
              "  }\n",
              "\n",
              "  @keyframes spin {\n",
              "    0% {\n",
              "      border-color: transparent;\n",
              "      border-bottom-color: var(--fill-color);\n",
              "      border-left-color: var(--fill-color);\n",
              "    }\n",
              "    20% {\n",
              "      border-color: transparent;\n",
              "      border-left-color: var(--fill-color);\n",
              "      border-top-color: var(--fill-color);\n",
              "    }\n",
              "    30% {\n",
              "      border-color: transparent;\n",
              "      border-left-color: var(--fill-color);\n",
              "      border-top-color: var(--fill-color);\n",
              "      border-right-color: var(--fill-color);\n",
              "    }\n",
              "    40% {\n",
              "      border-color: transparent;\n",
              "      border-right-color: var(--fill-color);\n",
              "      border-top-color: var(--fill-color);\n",
              "    }\n",
              "    60% {\n",
              "      border-color: transparent;\n",
              "      border-right-color: var(--fill-color);\n",
              "    }\n",
              "    80% {\n",
              "      border-color: transparent;\n",
              "      border-right-color: var(--fill-color);\n",
              "      border-bottom-color: var(--fill-color);\n",
              "    }\n",
              "    90% {\n",
              "      border-color: transparent;\n",
              "      border-bottom-color: var(--fill-color);\n",
              "    }\n",
              "  }\n",
              "</style>\n",
              "\n",
              "  <script>\n",
              "    async function quickchart(key) {\n",
              "      const quickchartButtonEl =\n",
              "        document.querySelector('#' + key + ' button');\n",
              "      quickchartButtonEl.disabled = true;  // To prevent multiple clicks.\n",
              "      quickchartButtonEl.classList.add('colab-df-spinner');\n",
              "      try {\n",
              "        const charts = await google.colab.kernel.invokeFunction(\n",
              "            'suggestCharts', [key], {});\n",
              "      } catch (error) {\n",
              "        console.error('Error during call to suggestCharts:', error);\n",
              "      }\n",
              "      quickchartButtonEl.classList.remove('colab-df-spinner');\n",
              "      quickchartButtonEl.classList.add('colab-df-quickchart-complete');\n",
              "    }\n",
              "    (() => {\n",
              "      let quickchartButtonEl =\n",
              "        document.querySelector('#df-5c23ef31-0e50-45aa-a2b5-8f70d346572e button');\n",
              "      quickchartButtonEl.style.display =\n",
              "        google.colab.kernel.accessAllowed ? 'block' : 'none';\n",
              "    })();\n",
              "  </script>\n",
              "</div>\n",
              "    </div>\n",
              "  </div>\n"
            ]
          },
          "metadata": {},
          "execution_count": 31
        }
      ]
    },
    {
      "cell_type": "code",
      "source": [
        "boston = boston.drop(['Unnamed: 0'], axis=1)"
      ],
      "metadata": {
        "id": "2vldIY_rIjXX"
      },
      "execution_count": 32,
      "outputs": []
    },
    {
      "cell_type": "code",
      "source": [
        "X = boston.drop(['crim'], axis=1)\n",
        "y = boston[['crim']]"
      ],
      "metadata": {
        "id": "QlMxvm9-Ipaz"
      },
      "execution_count": 33,
      "outputs": []
    },
    {
      "cell_type": "markdown",
      "source": [
        "## 2-(a) ~ (b) Forward & Backward / Ridge / Lasso"
      ],
      "metadata": {
        "id": "QOLIOUhrI2D3"
      }
    },
    {
      "cell_type": "markdown",
      "source": [
        "### Ridge"
      ],
      "metadata": {
        "id": "kstnWGL-JbTi"
      }
    },
    {
      "cell_type": "code",
      "source": [
        "cv_err_list = []\n",
        "\n",
        "for a in alpha_list:\n",
        "  ridge = make_pipeline(preprocessing.StandardScaler(), Ridge(alpha=a))\n",
        "  fold_error = k_fold(10, X, y, ridge)\n",
        "  cv_err_list.append(sum(fold_error)/len(fold_error))"
      ],
      "metadata": {
        "id": "-0AJ2qKWJZrb"
      },
      "execution_count": 34,
      "outputs": []
    },
    {
      "cell_type": "code",
      "source": [
        "min_idx = cv_err_list.index(min(cv_err_list))\n",
        "r_a = alpha_list[min_idx]"
      ],
      "metadata": {
        "id": "ZkfQOLaNJjv6"
      },
      "execution_count": 35,
      "outputs": []
    },
    {
      "cell_type": "code",
      "source": [
        "print(\"Ridge best alpha:\", r_a)"
      ],
      "metadata": {
        "colab": {
          "base_uri": "https://localhost:8080/"
        },
        "id": "x0WobhTQJ9T5",
        "outputId": "89341e1f-b42f-4dea-e6d5-045877b8be2b"
      },
      "execution_count": 36,
      "outputs": [
        {
          "output_type": "stream",
          "name": "stdout",
          "text": [
            "Ridge best alpha: 10\n"
          ]
        }
      ]
    },
    {
      "cell_type": "code",
      "source": [
        "ridge = make_pipeline(preprocessing.StandardScaler(), Ridge(alpha=r_a))\n",
        "ridge_mse = k_fold(10, X, y, ridge)"
      ],
      "metadata": {
        "id": "A9TDbScla08g"
      },
      "execution_count": 37,
      "outputs": []
    },
    {
      "cell_type": "code",
      "source": [
        "sum(ridge_mse)/len(ridge_mse)"
      ],
      "metadata": {
        "colab": {
          "base_uri": "https://localhost:8080/"
        },
        "id": "Syf6JrrrdYcg",
        "outputId": "50532da6-6a0d-4163-cca4-19091e6f6ac9"
      },
      "execution_count": 38,
      "outputs": [
        {
          "output_type": "execute_result",
          "data": {
            "text/plain": [
              "42.11498743867365"
            ]
          },
          "metadata": {},
          "execution_count": 38
        }
      ]
    },
    {
      "cell_type": "markdown",
      "source": [
        "### Lasso"
      ],
      "metadata": {
        "id": "4PmRonQUJfqi"
      }
    },
    {
      "cell_type": "code",
      "source": [
        "cv_err_list_l = []\n",
        "\n",
        "for a in alpha_list:\n",
        "  lasso = make_pipeline(preprocessing.StandardScaler(), Lasso(alpha=a))\n",
        "  fold_error = k_fold(10, X, y, lasso)\n",
        "  cv_err_list_l.append(sum(fold_error)/len(fold_error))"
      ],
      "metadata": {
        "id": "iVXAlxXKJzyO"
      },
      "execution_count": 39,
      "outputs": []
    },
    {
      "cell_type": "code",
      "source": [
        "min_idx = cv_err_list_l.index(min(cv_err_list_l))\n",
        "l_a = alpha_list[min_idx]"
      ],
      "metadata": {
        "id": "HfthmY7PJ0-1"
      },
      "execution_count": 40,
      "outputs": []
    },
    {
      "cell_type": "code",
      "source": [
        "print(\"Lasso best alpha:\", l_a)"
      ],
      "metadata": {
        "colab": {
          "base_uri": "https://localhost:8080/"
        },
        "id": "gDOztn4oJ8My",
        "outputId": "eb59a859-50f0-41cf-9aca-0deec6b3ad97"
      },
      "execution_count": 41,
      "outputs": [
        {
          "output_type": "stream",
          "name": "stdout",
          "text": [
            "Lasso best alpha: 0.01\n"
          ]
        }
      ]
    },
    {
      "cell_type": "code",
      "source": [
        "lasso = make_pipeline(preprocessing.StandardScaler(), Lasso(alpha=l_a))\n",
        "lasso_mse = k_fold(10, X, y, lasso)"
      ],
      "metadata": {
        "id": "ipbae4-oeC0h"
      },
      "execution_count": 42,
      "outputs": []
    },
    {
      "cell_type": "code",
      "source": [
        "sum(lasso_mse)/len(lasso_mse)"
      ],
      "metadata": {
        "colab": {
          "base_uri": "https://localhost:8080/"
        },
        "id": "DykH-TNfeI1D",
        "outputId": "ef504dc4-6d7f-436e-a717-0d91f5976382"
      },
      "execution_count": 43,
      "outputs": [
        {
          "output_type": "execute_result",
          "data": {
            "text/plain": [
              "42.108192386726294"
            ]
          },
          "metadata": {},
          "execution_count": 43
        }
      ]
    },
    {
      "cell_type": "code",
      "source": [
        "lasso.steps[1][1].coef_"
      ],
      "metadata": {
        "colab": {
          "base_uri": "https://localhost:8080/"
        },
        "id": "6-9-uOEiF2lj",
        "outputId": "ea695c0c-1049-48bb-dbd2-0cce23d287e6"
      },
      "execution_count": 67,
      "outputs": [
        {
          "output_type": "execute_result",
          "data": {
            "text/plain": [
              "array([ 1.05640821, -0.37407132, -0.19334144, -1.05124903,  0.69391419,\n",
              "        0.04947454, -2.10500239,  5.21686845, -0.62877573, -0.62604147,\n",
              "        0.56798712, -2.40810666])"
            ]
          },
          "metadata": {},
          "execution_count": 67
        }
      ]
    },
    {
      "cell_type": "markdown",
      "source": [
        "### Forward"
      ],
      "metadata": {
        "id": "vU4yAOInKLE4"
      }
    },
    {
      "cell_type": "code",
      "source": [
        "cols = X.columns"
      ],
      "metadata": {
        "id": "0d2xlsv5NDJi"
      },
      "execution_count": 44,
      "outputs": []
    },
    {
      "cell_type": "code",
      "source": [
        "p = X.shape[1]\n",
        "\n",
        "undo = X.columns.tolist()\n",
        "feature_list = []\n",
        "Mk = []\n",
        "\n",
        "print(\"Forward selection\")\n",
        "\n",
        "for _ in range(p):\n",
        "  tmp_r2 = []\n",
        "  for u in undo:\n",
        "    X_tmp = X[[u]+feature_list]\n",
        "    X_tmp = sm.add_constant(X_tmp)\n",
        "    lm = sm.OLS(y, X_tmp)\n",
        "    result = lm.fit()\n",
        "    tmp_r2.append(result.rsquared)\n",
        "  max_idx = tmp_r2.index(max(tmp_r2))\n",
        "  feature_list.append(undo[max_idx])\n",
        "  undo.pop(max_idx)\n",
        "  print(feature_list)\n",
        "  Mk.append(list(feature_list))"
      ],
      "metadata": {
        "colab": {
          "base_uri": "https://localhost:8080/"
        },
        "id": "_xL7BCWfYIIq",
        "outputId": "dd17bd5d-a50d-44bb-b5d8-4f8d0a5ffd3f"
      },
      "execution_count": 70,
      "outputs": [
        {
          "output_type": "stream",
          "name": "stdout",
          "text": [
            "Forward selection\n",
            "['rad']\n",
            "['rad', 'lstat']\n",
            "['rad', 'lstat', 'medv']\n",
            "['rad', 'lstat', 'medv', 'ptratio']\n",
            "['rad', 'lstat', 'medv', 'ptratio', 'rm']\n",
            "['rad', 'lstat', 'medv', 'ptratio', 'rm', 'nox']\n",
            "['rad', 'lstat', 'medv', 'ptratio', 'rm', 'nox', 'dis']\n",
            "['rad', 'lstat', 'medv', 'ptratio', 'rm', 'nox', 'dis', 'zn']\n",
            "['rad', 'lstat', 'medv', 'ptratio', 'rm', 'nox', 'dis', 'zn', 'indus']\n",
            "['rad', 'lstat', 'medv', 'ptratio', 'rm', 'nox', 'dis', 'zn', 'indus', 'tax']\n",
            "['rad', 'lstat', 'medv', 'ptratio', 'rm', 'nox', 'dis', 'zn', 'indus', 'tax', 'chas']\n",
            "['rad', 'lstat', 'medv', 'ptratio', 'rm', 'nox', 'dis', 'zn', 'indus', 'tax', 'chas', 'age']\n"
          ]
        }
      ]
    },
    {
      "cell_type": "code",
      "source": [
        "import numpy as np\n",
        "\n",
        "null = np.zeros(X.shape)\n",
        "null = pd.DataFrame(null)"
      ],
      "metadata": {
        "id": "mWW6ivUp0vDz"
      },
      "execution_count": 63,
      "outputs": []
    },
    {
      "cell_type": "code",
      "source": [
        "from sklearn.linear_model import LinearRegression\n",
        "# https://stackoverflow.com/questions/49381661/how-do-i-calculate-the-adjusted-r-squared-score-using-scikit-learn\n",
        "\n",
        "mse = []\n",
        "\n",
        "# null model\n",
        "linear = LinearRegression()\n",
        "error = k_fold(10, null, y, linear)\n",
        "mse.append(sum(error)/len(error))\n",
        "\n",
        "\n",
        "for k in Mk:\n",
        "  X_tmp = X[k]\n",
        "  linear = LinearRegression()\n",
        "  error = k_fold(10, X_tmp, y, linear)\n",
        "  mse.append(sum(error)/len(error))"
      ],
      "metadata": {
        "id": "guFwwAxsaLaF"
      },
      "execution_count": 64,
      "outputs": []
    },
    {
      "cell_type": "code",
      "source": [
        "mse"
      ],
      "metadata": {
        "colab": {
          "base_uri": "https://localhost:8080/"
        },
        "id": "c25R5UQHKG19",
        "outputId": "95c5140d-4766-4376-a863-ee9f5f9bdab3"
      },
      "execution_count": 65,
      "outputs": [
        {
          "output_type": "execute_result",
          "data": {
            "text/plain": [
              "[74.0389396978575,\n",
              " 45.38846757497713,\n",
              " 43.444824729526516,\n",
              " 43.32654101762223,\n",
              " 43.04611930379884,\n",
              " 43.13999600447802,\n",
              " 43.0790921109096,\n",
              " 42.610906280368745,\n",
              " 42.13459295535885,\n",
              " 42.03918649218895,\n",
              " 42.017633271218514,\n",
              " 42.063081959003924,\n",
              " 42.1282625165581]"
            ]
          },
          "metadata": {},
          "execution_count": 65
        }
      ]
    },
    {
      "cell_type": "code",
      "source": [
        "print(\"<Forward Subset Selection>\")\n",
        "print(\"Minimum MSE:\", min(mse))\n",
        "min_idx = mse.index(min(mse))\n",
        "print(\"Number of Selected Features:\", min_idx)\n",
        "print(\"Selected Features:\", Mk[min_idx-1])"
      ],
      "metadata": {
        "colab": {
          "base_uri": "https://localhost:8080/"
        },
        "id": "_fIc9YLHcte-",
        "outputId": "d41d7e33-162d-4d8e-a6fb-eec33729a932"
      },
      "execution_count": 66,
      "outputs": [
        {
          "output_type": "stream",
          "name": "stdout",
          "text": [
            "<Forward Subset Selection>\n",
            "Minimum MSE: 42.017633271218514\n",
            "Number of Selected Features: 10\n",
            "Selected Features: ['rad', 'lstat', 'medv', 'ptratio', 'rm', 'nox', 'dis', 'zn', 'indus', 'tax']\n"
          ]
        }
      ]
    },
    {
      "cell_type": "markdown",
      "source": [
        "### Backward"
      ],
      "metadata": {
        "id": "gjFF_FXAgpxr"
      }
    },
    {
      "cell_type": "code",
      "source": [
        "todo = X.columns.tolist()\n",
        "\n",
        "Mk = []\n",
        "\n",
        "print(\"Backward selection\")\n",
        "\n",
        "for _ in range(p):\n",
        "  tmp_r2 = []\n",
        "  tmp_list = []\n",
        "  for i in range(len(todo)):\n",
        "    tmp = list(set(todo) - set([todo[i]]))\n",
        "    tmp_list.append(tmp)\n",
        "    X_tmp = X[tmp]\n",
        "    X_tmp = sm.add_constant(X_tmp)\n",
        "    lm = sm.OLS(y, X_tmp)\n",
        "    result = lm.fit()\n",
        "    tmp_r2.append(result.rsquared)\n",
        "  max_idx = tmp_r2.index(max(tmp_r2))\n",
        "  Mk.append(tmp_list[max_idx])\n",
        "  todo = list(tmp_list[max_idx])\n",
        "  print(todo)"
      ],
      "metadata": {
        "colab": {
          "base_uri": "https://localhost:8080/"
        },
        "id": "ch4ad9SRhmNs",
        "outputId": "98feea57-97d9-427f-ab80-3789fcf86628"
      },
      "execution_count": 50,
      "outputs": [
        {
          "output_type": "stream",
          "name": "stdout",
          "text": [
            "Backward selection\n",
            "['rm', 'indus', 'zn', 'rad', 'chas', 'lstat', 'ptratio', 'medv', 'tax', 'dis', 'nox']\n",
            "['rm', 'zn', 'rad', 'tax', 'chas', 'lstat', 'medv', 'ptratio', 'dis', 'nox']\n",
            "['rm', 'zn', 'rad', 'lstat', 'medv', 'ptratio', 'tax', 'dis', 'nox']\n",
            "['rm', 'zn', 'rad', 'lstat', 'medv', 'ptratio', 'dis', 'nox']\n",
            "['zn', 'rad', 'lstat', 'medv', 'ptratio', 'dis', 'nox']\n",
            "['zn', 'rad', 'medv', 'ptratio', 'dis', 'nox']\n",
            "['zn', 'rad', 'medv', 'dis', 'nox']\n",
            "['dis', 'zn', 'rad', 'medv']\n",
            "['dis', 'rad', 'medv']\n",
            "['rad', 'medv']\n",
            "['rad']\n",
            "[]\n"
          ]
        }
      ]
    },
    {
      "cell_type": "code",
      "source": [
        "Mk.pop(-1)"
      ],
      "metadata": {
        "colab": {
          "base_uri": "https://localhost:8080/"
        },
        "id": "sobR3eRLY4UQ",
        "outputId": "e8790c47-37a6-4fa6-fded-ffb13a0c0257"
      },
      "execution_count": 51,
      "outputs": [
        {
          "output_type": "execute_result",
          "data": {
            "text/plain": [
              "[]"
            ]
          },
          "metadata": {},
          "execution_count": 51
        }
      ]
    },
    {
      "cell_type": "code",
      "source": [
        "mse = []\n",
        "\n",
        "# full model\n",
        "linear = LinearRegression().fit(X, y)\n",
        "scores = k_fold(10, X, y, linear)\n",
        "mse.append(sum(scores)/len(scores))\n",
        "\n",
        "for k in Mk:\n",
        "  X_tmp = X[k]\n",
        "  linear = LinearRegression().fit(X_tmp, y)\n",
        "  error = k_fold(10, X_tmp, y, linear)\n",
        "  mse.append(sum(error)/len(error))\n",
        "\n",
        "# null model\n",
        "linear = LinearRegression()\n",
        "error = k_fold(10, null, y, linear)\n",
        "mse.append(sum(error)/len(error))"
      ],
      "metadata": {
        "id": "enIhdGnUiXG9"
      },
      "execution_count": 52,
      "outputs": []
    },
    {
      "cell_type": "code",
      "source": [
        "mse"
      ],
      "metadata": {
        "colab": {
          "base_uri": "https://localhost:8080/"
        },
        "id": "rdWqM0pRaELP",
        "outputId": "c59aeeb6-2bbe-4527-dd28-c74f08dedb45"
      },
      "execution_count": 53,
      "outputs": [
        {
          "output_type": "execute_result",
          "data": {
            "text/plain": [
              "[42.12826251655806,\n",
              " 42.06308195900393,\n",
              " 42.09198962027719,\n",
              " 42.06113693663927,\n",
              " 42.13459295535884,\n",
              " 42.00525808761523,\n",
              " 41.855822192819545,\n",
              " 42.16024760502533,\n",
              " 42.3866095061234,\n",
              " 43.190660048424334,\n",
              " 43.51511870896867,\n",
              " 45.38846757497713,\n",
              " 74.0389396978575]"
            ]
          },
          "metadata": {},
          "execution_count": 53
        }
      ]
    },
    {
      "cell_type": "code",
      "source": [
        "print(\"<Backward Subset Selection>\")\n",
        "print(\"Minimum MSE:\", min(mse))\n",
        "min_idx = mse.index(min(mse))\n",
        "print(\"Number of Selected Features:\", len(mse)-1-min_idx)\n",
        "print(\"Selected Features:\", Mk[len(mse)-2-min_idx])"
      ],
      "metadata": {
        "colab": {
          "base_uri": "https://localhost:8080/"
        },
        "id": "DZ9UTiH9jm_d",
        "outputId": "1fc0316d-e7de-4819-f5d2-687a9e2956ec"
      },
      "execution_count": 61,
      "outputs": [
        {
          "output_type": "stream",
          "name": "stdout",
          "text": [
            "<Backward Subset Selection>\n",
            "Minimum MSE: 41.855822192819545\n",
            "Number of Selected Features: 6\n",
            "Selected Features: ['zn', 'rad', 'medv', 'ptratio', 'dis', 'nox']\n"
          ]
        }
      ]
    }
  ]
}